{
 "cells": [
  {
   "cell_type": "code",
   "execution_count": 6,
   "metadata": {},
   "outputs": [],
   "source": [
    "import pandas as pd\n",
    "import numpy as np\n",
    "from siuba import *\n",
    "from plotnine import *\n",
    "import plotly.express as px"
   ]
  },
  {
   "cell_type": "code",
   "execution_count": 92,
   "metadata": {},
   "outputs": [],
   "source": [
    "df = pd.read_parquet(\"../data/preprocessed/accidents_from_mapper.parquet\")\n",
    "df = (\n",
    "    df\n",
    "    >> mutate(part=if_else(_.location <= 60.4, 'arava_dromit', 'arava_tihona'),\n",
    "        after=_.year >= 2012\n",
    "    )\n",
    "    >> mutate(section=_.part + if_else(_.after, '_after_2012', '_before_2012'))\n",
    ")"
   ]
  },
  {
   "cell_type": "code",
   "execution_count": 48,
   "metadata": {},
   "outputs": [
    {
     "data": {
      "text/html": [
       "<div>\n",
       "<style scoped>\n",
       "    .dataframe tbody tr th:only-of-type {\n",
       "        vertical-align: middle;\n",
       "    }\n",
       "\n",
       "    .dataframe tbody tr th {\n",
       "        vertical-align: top;\n",
       "    }\n",
       "\n",
       "    .dataframe thead th {\n",
       "        text-align: right;\n",
       "    }\n",
       "</style>\n",
       "<table border=\"1\" class=\"dataframe\">\n",
       "  <thead>\n",
       "    <tr style=\"text-align: right;\">\n",
       "      <th></th>\n",
       "      <th>name</th>\n",
       "      <th>location</th>\n",
       "    </tr>\n",
       "  </thead>\n",
       "  <tbody>\n",
       "    <tr>\n",
       "      <th>0</th>\n",
       "      <td>Eilot</td>\n",
       "      <td>11.9</td>\n",
       "    </tr>\n",
       "    <tr>\n",
       "      <th>1</th>\n",
       "      <td>Meches</td>\n",
       "      <td>15.6</td>\n",
       "    </tr>\n",
       "    <tr>\n",
       "      <th>2</th>\n",
       "      <td>Beer Ora</td>\n",
       "      <td>27.0</td>\n",
       "    </tr>\n",
       "    <tr>\n",
       "      <th>3</th>\n",
       "      <td>Timna</td>\n",
       "      <td>36.0</td>\n",
       "    </tr>\n",
       "    <tr>\n",
       "      <th>4</th>\n",
       "      <td>Samar</td>\n",
       "      <td>41.3</td>\n",
       "    </tr>\n",
       "    <tr>\n",
       "      <th>5</th>\n",
       "      <td>Yotvata</td>\n",
       "      <td>49.5</td>\n",
       "    </tr>\n",
       "    <tr>\n",
       "      <th>6</th>\n",
       "      <td>Grofit</td>\n",
       "      <td>54.0</td>\n",
       "    </tr>\n",
       "    <tr>\n",
       "      <th>7</th>\n",
       "      <td>Ktora</td>\n",
       "      <td>60.4</td>\n",
       "    </tr>\n",
       "    <tr>\n",
       "      <th>8</th>\n",
       "      <td>Yahel</td>\n",
       "      <td>72.3</td>\n",
       "    </tr>\n",
       "    <tr>\n",
       "      <th>9</th>\n",
       "      <td>Menuha</td>\n",
       "      <td>97.6</td>\n",
       "    </tr>\n",
       "    <tr>\n",
       "      <th>10</th>\n",
       "      <td>Paran</td>\n",
       "      <td>105.9</td>\n",
       "    </tr>\n",
       "    <tr>\n",
       "      <th>11</th>\n",
       "      <td>Tsukim</td>\n",
       "      <td>120.4</td>\n",
       "    </tr>\n",
       "    <tr>\n",
       "      <th>12</th>\n",
       "      <td>Tzofar</td>\n",
       "      <td>128.9</td>\n",
       "    </tr>\n",
       "    <tr>\n",
       "      <th>13</th>\n",
       "      <td>Sapir</td>\n",
       "      <td>134.8</td>\n",
       "    </tr>\n",
       "    <tr>\n",
       "      <th>14</th>\n",
       "      <td>Ein Yahav</td>\n",
       "      <td>138.6</td>\n",
       "    </tr>\n",
       "    <tr>\n",
       "      <th>15</th>\n",
       "      <td>Hazeva</td>\n",
       "      <td>153.4</td>\n",
       "    </tr>\n",
       "    <tr>\n",
       "      <th>16</th>\n",
       "      <td>Idan</td>\n",
       "      <td>158.2</td>\n",
       "    </tr>\n",
       "    <tr>\n",
       "      <th>17</th>\n",
       "      <td>Haarava Junc</td>\n",
       "      <td>180.5</td>\n",
       "    </tr>\n",
       "  </tbody>\n",
       "</table>\n",
       "</div>"
      ],
      "text/plain": [
       "            name  location\n",
       "0          Eilot      11.9\n",
       "1         Meches      15.6\n",
       "2       Beer Ora      27.0\n",
       "3          Timna      36.0\n",
       "4          Samar      41.3\n",
       "5        Yotvata      49.5\n",
       "6         Grofit      54.0\n",
       "7          Ktora      60.4\n",
       "8          Yahel      72.3\n",
       "9         Menuha      97.6\n",
       "10         Paran     105.9\n",
       "11        Tsukim     120.4\n",
       "12        Tzofar     128.9\n",
       "13         Sapir     134.8\n",
       "14     Ein Yahav     138.6\n",
       "15        Hazeva     153.4\n",
       "16          Idan     158.2\n",
       "17  Haarava Junc     180.5"
      ]
     },
     "execution_count": 48,
     "metadata": {},
     "output_type": "execute_result"
    }
   ],
   "source": [
    "junctions = pd.read_csv(\"../data/preprocessed/junctions.csv\")\n",
    "junctions"
   ]
  },
  {
   "cell_type": "code",
   "execution_count": 78,
   "metadata": {},
   "outputs": [
    {
     "data": {
      "text/html": [
       "<div>\n",
       "<style scoped>\n",
       "    .dataframe tbody tr th:only-of-type {\n",
       "        vertical-align: middle;\n",
       "    }\n",
       "\n",
       "    .dataframe tbody tr th {\n",
       "        vertical-align: top;\n",
       "    }\n",
       "\n",
       "    .dataframe thead th {\n",
       "        text-align: right;\n",
       "    }\n",
       "</style>\n",
       "<table border=\"1\" class=\"dataframe\">\n",
       "  <thead>\n",
       "    <tr style=\"text-align: right;\">\n",
       "      <th></th>\n",
       "      <th>year</th>\n",
       "      <th>month</th>\n",
       "      <th>day of week</th>\n",
       "      <th>day/night</th>\n",
       "      <th>accident_severity</th>\n",
       "      <th>accident_type</th>\n",
       "      <th>killed</th>\n",
       "      <th>severly_injured</th>\n",
       "      <th>lightly_injured</th>\n",
       "      <th>injured_pedestrians</th>\n",
       "      <th>...</th>\n",
       "      <th>localization_quality</th>\n",
       "      <th>settlement</th>\n",
       "      <th>road1</th>\n",
       "      <th>location</th>\n",
       "      <th>road2</th>\n",
       "      <th>road3</th>\n",
       "      <th>road4</th>\n",
       "      <th>part</th>\n",
       "      <th>after</th>\n",
       "      <th>part_time</th>\n",
       "    </tr>\n",
       "  </thead>\n",
       "  <tbody>\n",
       "    <tr>\n",
       "      <th>0</th>\n",
       "      <td>2003</td>\n",
       "      <td>אפריל</td>\n",
       "      <td>ראשון</td>\n",
       "      <td>לילה</td>\n",
       "      <td>קשה</td>\n",
       "      <td>התנגשות חזית בצד</td>\n",
       "      <td>0</td>\n",
       "      <td>1</td>\n",
       "      <td>8</td>\n",
       "      <td>0</td>\n",
       "      <td>...</td>\n",
       "      <td>עיגון מדויק</td>\n",
       "      <td>NaN</td>\n",
       "      <td>90</td>\n",
       "      <td>100.3</td>\n",
       "      <td>NaN</td>\n",
       "      <td>NaN</td>\n",
       "      <td>NaN</td>\n",
       "      <td>arava_tihona</td>\n",
       "      <td>False</td>\n",
       "      <td>arava_tihona_before_2012</td>\n",
       "    </tr>\n",
       "    <tr>\n",
       "      <th>1</th>\n",
       "      <td>2003</td>\n",
       "      <td>מאי</td>\n",
       "      <td>שישי</td>\n",
       "      <td>לילה</td>\n",
       "      <td>קלה</td>\n",
       "      <td>התהפכות</td>\n",
       "      <td>0</td>\n",
       "      <td>0</td>\n",
       "      <td>3</td>\n",
       "      <td>0</td>\n",
       "      <td>...</td>\n",
       "      <td>עיגון מדויק</td>\n",
       "      <td>NaN</td>\n",
       "      <td>90</td>\n",
       "      <td>75.1</td>\n",
       "      <td>NaN</td>\n",
       "      <td>NaN</td>\n",
       "      <td>NaN</td>\n",
       "      <td>arava_tihona</td>\n",
       "      <td>False</td>\n",
       "      <td>arava_tihona_before_2012</td>\n",
       "    </tr>\n",
       "    <tr>\n",
       "      <th>2</th>\n",
       "      <td>2003</td>\n",
       "      <td>מאי</td>\n",
       "      <td>שבת</td>\n",
       "      <td>לילה</td>\n",
       "      <td>קלה</td>\n",
       "      <td>התהפכות</td>\n",
       "      <td>0</td>\n",
       "      <td>0</td>\n",
       "      <td>4</td>\n",
       "      <td>0</td>\n",
       "      <td>...</td>\n",
       "      <td>עיגון מדויק</td>\n",
       "      <td>NaN</td>\n",
       "      <td>90</td>\n",
       "      <td>39.9</td>\n",
       "      <td>NaN</td>\n",
       "      <td>NaN</td>\n",
       "      <td>NaN</td>\n",
       "      <td>arava_dromit</td>\n",
       "      <td>False</td>\n",
       "      <td>arava_dromit_before_2012</td>\n",
       "    </tr>\n",
       "    <tr>\n",
       "      <th>3</th>\n",
       "      <td>2003</td>\n",
       "      <td>יוני</td>\n",
       "      <td>חמישי</td>\n",
       "      <td>לילה</td>\n",
       "      <td>קלה</td>\n",
       "      <td>התנגשות חזית באחור</td>\n",
       "      <td>0</td>\n",
       "      <td>0</td>\n",
       "      <td>2</td>\n",
       "      <td>0</td>\n",
       "      <td>...</td>\n",
       "      <td>עיגון מדויק</td>\n",
       "      <td>NaN</td>\n",
       "      <td>90</td>\n",
       "      <td>135.8</td>\n",
       "      <td>NaN</td>\n",
       "      <td>NaN</td>\n",
       "      <td>NaN</td>\n",
       "      <td>arava_tihona</td>\n",
       "      <td>False</td>\n",
       "      <td>arava_tihona_before_2012</td>\n",
       "    </tr>\n",
       "    <tr>\n",
       "      <th>4</th>\n",
       "      <td>2003</td>\n",
       "      <td>מרס</td>\n",
       "      <td>שני</td>\n",
       "      <td>לילה</td>\n",
       "      <td>קטלנית</td>\n",
       "      <td>פגיעה בהולך רגל</td>\n",
       "      <td>1</td>\n",
       "      <td>4</td>\n",
       "      <td>22</td>\n",
       "      <td>1</td>\n",
       "      <td>...</td>\n",
       "      <td>עיגון מדויק</td>\n",
       "      <td>NaN</td>\n",
       "      <td>90</td>\n",
       "      <td>43.0</td>\n",
       "      <td>NaN</td>\n",
       "      <td>NaN</td>\n",
       "      <td>NaN</td>\n",
       "      <td>arava_dromit</td>\n",
       "      <td>False</td>\n",
       "      <td>arava_dromit_before_2012</td>\n",
       "    </tr>\n",
       "    <tr>\n",
       "      <th>...</th>\n",
       "      <td>...</td>\n",
       "      <td>...</td>\n",
       "      <td>...</td>\n",
       "      <td>...</td>\n",
       "      <td>...</td>\n",
       "      <td>...</td>\n",
       "      <td>...</td>\n",
       "      <td>...</td>\n",
       "      <td>...</td>\n",
       "      <td>...</td>\n",
       "      <td>...</td>\n",
       "      <td>...</td>\n",
       "      <td>...</td>\n",
       "      <td>...</td>\n",
       "      <td>...</td>\n",
       "      <td>...</td>\n",
       "      <td>...</td>\n",
       "      <td>...</td>\n",
       "      <td>...</td>\n",
       "      <td>...</td>\n",
       "      <td>...</td>\n",
       "    </tr>\n",
       "    <tr>\n",
       "      <th>343</th>\n",
       "      <td>2021</td>\n",
       "      <td>אפריל</td>\n",
       "      <td>שלישי</td>\n",
       "      <td>יום</td>\n",
       "      <td>קשה</td>\n",
       "      <td>התהפכות</td>\n",
       "      <td>0</td>\n",
       "      <td>3</td>\n",
       "      <td>0</td>\n",
       "      <td>0</td>\n",
       "      <td>...</td>\n",
       "      <td>עיגון מדויק</td>\n",
       "      <td>NaN</td>\n",
       "      <td>90</td>\n",
       "      <td>131.0</td>\n",
       "      <td>NaN</td>\n",
       "      <td>NaN</td>\n",
       "      <td>NaN</td>\n",
       "      <td>arava_tihona</td>\n",
       "      <td>True</td>\n",
       "      <td>arava_tihona_after_2012</td>\n",
       "    </tr>\n",
       "    <tr>\n",
       "      <th>344</th>\n",
       "      <td>2021</td>\n",
       "      <td>אפריל</td>\n",
       "      <td>רביעי</td>\n",
       "      <td>לילה</td>\n",
       "      <td>קטלנית</td>\n",
       "      <td>התנגשות חזית בחזית</td>\n",
       "      <td>2</td>\n",
       "      <td>0</td>\n",
       "      <td>1</td>\n",
       "      <td>0</td>\n",
       "      <td>...</td>\n",
       "      <td>עיגון מדויק</td>\n",
       "      <td>NaN</td>\n",
       "      <td>90</td>\n",
       "      <td>118.5</td>\n",
       "      <td>NaN</td>\n",
       "      <td>NaN</td>\n",
       "      <td>NaN</td>\n",
       "      <td>arava_tihona</td>\n",
       "      <td>True</td>\n",
       "      <td>arava_tihona_after_2012</td>\n",
       "    </tr>\n",
       "    <tr>\n",
       "      <th>345</th>\n",
       "      <td>2022</td>\n",
       "      <td>מרס</td>\n",
       "      <td>ראשון</td>\n",
       "      <td>יום</td>\n",
       "      <td>קלה</td>\n",
       "      <td>התנגשות חזית בצד</td>\n",
       "      <td>0</td>\n",
       "      <td>0</td>\n",
       "      <td>4</td>\n",
       "      <td>0</td>\n",
       "      <td>...</td>\n",
       "      <td>עיגון מדויק</td>\n",
       "      <td>NaN</td>\n",
       "      <td>90</td>\n",
       "      <td>NaN</td>\n",
       "      <td>1093.0</td>\n",
       "      <td>NaN</td>\n",
       "      <td>NaN</td>\n",
       "      <td>arava_tihona</td>\n",
       "      <td>True</td>\n",
       "      <td>arava_tihona_after_2012</td>\n",
       "    </tr>\n",
       "    <tr>\n",
       "      <th>346</th>\n",
       "      <td>2022</td>\n",
       "      <td>מרס</td>\n",
       "      <td>שבת</td>\n",
       "      <td>לילה</td>\n",
       "      <td>קלה</td>\n",
       "      <td>התנגשות עם עצם דומם</td>\n",
       "      <td>0</td>\n",
       "      <td>0</td>\n",
       "      <td>4</td>\n",
       "      <td>0</td>\n",
       "      <td>...</td>\n",
       "      <td>עיגון מדויק</td>\n",
       "      <td>NaN</td>\n",
       "      <td>90</td>\n",
       "      <td>38.9</td>\n",
       "      <td>NaN</td>\n",
       "      <td>NaN</td>\n",
       "      <td>NaN</td>\n",
       "      <td>arava_dromit</td>\n",
       "      <td>True</td>\n",
       "      <td>arava_dromit_after_2012</td>\n",
       "    </tr>\n",
       "    <tr>\n",
       "      <th>347</th>\n",
       "      <td>2022</td>\n",
       "      <td>פברואר</td>\n",
       "      <td>שני</td>\n",
       "      <td>יום</td>\n",
       "      <td>קלה</td>\n",
       "      <td>התנגשות חזית בצד</td>\n",
       "      <td>0</td>\n",
       "      <td>0</td>\n",
       "      <td>2</td>\n",
       "      <td>0</td>\n",
       "      <td>...</td>\n",
       "      <td>עיגון מדויק</td>\n",
       "      <td>NaN</td>\n",
       "      <td>90</td>\n",
       "      <td>38.3</td>\n",
       "      <td>NaN</td>\n",
       "      <td>NaN</td>\n",
       "      <td>NaN</td>\n",
       "      <td>arava_dromit</td>\n",
       "      <td>True</td>\n",
       "      <td>arava_dromit_after_2012</td>\n",
       "    </tr>\n",
       "  </tbody>\n",
       "</table>\n",
       "<p>348 rows × 27 columns</p>\n",
       "</div>"
      ],
      "text/plain": [
       "     year   month day of week day/night accident_severity  \\\n",
       "0    2003   אפריל       ראשון      לילה               קשה   \n",
       "1    2003     מאי        שישי      לילה               קלה   \n",
       "2    2003     מאי         שבת      לילה               קלה   \n",
       "3    2003    יוני       חמישי      לילה               קלה   \n",
       "4    2003     מרס         שני      לילה            קטלנית   \n",
       "..    ...     ...         ...       ...               ...   \n",
       "343  2021   אפריל       שלישי       יום               קשה   \n",
       "344  2021   אפריל       רביעי      לילה            קטלנית   \n",
       "345  2022     מרס       ראשון       יום               קלה   \n",
       "346  2022     מרס         שבת      לילה               קלה   \n",
       "347  2022  פברואר         שני       יום               קלה   \n",
       "\n",
       "           accident_type  killed  severly_injured  lightly_injured  \\\n",
       "0       התנגשות חזית בצד       0                1                8   \n",
       "1                התהפכות       0                0                3   \n",
       "2                התהפכות       0                0                4   \n",
       "3     התנגשות חזית באחור       0                0                2   \n",
       "4        פגיעה בהולך רגל       1                4               22   \n",
       "..                   ...     ...              ...              ...   \n",
       "343              התהפכות       0                3                0   \n",
       "344   התנגשות חזית בחזית       2                0                1   \n",
       "345     התנגשות חזית בצד       0                0                4   \n",
       "346  התנגשות עם עצם דומם       0                0                4   \n",
       "347     התנגשות חזית בצד       0                0                2   \n",
       "\n",
       "     injured_pedestrians  ...  localization_quality  settlement  road1  \\\n",
       "0                      0  ...           עיגון מדויק         NaN     90   \n",
       "1                      0  ...           עיגון מדויק         NaN     90   \n",
       "2                      0  ...           עיגון מדויק         NaN     90   \n",
       "3                      0  ...           עיגון מדויק         NaN     90   \n",
       "4                      1  ...           עיגון מדויק         NaN     90   \n",
       "..                   ...  ...                   ...         ...    ...   \n",
       "343                    0  ...           עיגון מדויק         NaN     90   \n",
       "344                    0  ...           עיגון מדויק         NaN     90   \n",
       "345                    0  ...           עיגון מדויק         NaN     90   \n",
       "346                    0  ...           עיגון מדויק         NaN     90   \n",
       "347                    0  ...           עיגון מדויק         NaN     90   \n",
       "\n",
       "     location   road2  road3 road4          part  after  \\\n",
       "0       100.3     NaN    NaN   NaN  arava_tihona  False   \n",
       "1        75.1     NaN    NaN   NaN  arava_tihona  False   \n",
       "2        39.9     NaN    NaN   NaN  arava_dromit  False   \n",
       "3       135.8     NaN    NaN   NaN  arava_tihona  False   \n",
       "4        43.0     NaN    NaN   NaN  arava_dromit  False   \n",
       "..        ...     ...    ...   ...           ...    ...   \n",
       "343     131.0     NaN    NaN   NaN  arava_tihona   True   \n",
       "344     118.5     NaN    NaN   NaN  arava_tihona   True   \n",
       "345       NaN  1093.0    NaN   NaN  arava_tihona   True   \n",
       "346      38.9     NaN    NaN   NaN  arava_dromit   True   \n",
       "347      38.3     NaN    NaN   NaN  arava_dromit   True   \n",
       "\n",
       "                    part_time  \n",
       "0    arava_tihona_before_2012  \n",
       "1    arava_tihona_before_2012  \n",
       "2    arava_dromit_before_2012  \n",
       "3    arava_tihona_before_2012  \n",
       "4    arava_dromit_before_2012  \n",
       "..                        ...  \n",
       "343   arava_tihona_after_2012  \n",
       "344   arava_tihona_after_2012  \n",
       "345   arava_tihona_after_2012  \n",
       "346   arava_dromit_after_2012  \n",
       "347   arava_dromit_after_2012  \n",
       "\n",
       "[348 rows x 27 columns]"
      ]
     },
     "execution_count": 78,
     "metadata": {},
     "output_type": "execute_result"
    }
   ],
   "source": [
    "df"
   ]
  },
  {
   "cell_type": "code",
   "execution_count": 93,
   "metadata": {},
   "outputs": [
    {
     "data": {
      "text/html": [
       "<div>\n",
       "<style scoped>\n",
       "    .dataframe tbody tr th:only-of-type {\n",
       "        vertical-align: middle;\n",
       "    }\n",
       "\n",
       "    .dataframe tbody tr th {\n",
       "        vertical-align: top;\n",
       "    }\n",
       "\n",
       "    .dataframe thead th {\n",
       "        text-align: right;\n",
       "    }\n",
       "</style>\n",
       "<table border=\"1\" class=\"dataframe\">\n",
       "  <thead>\n",
       "    <tr style=\"text-align: right;\">\n",
       "      <th></th>\n",
       "      <th>killed</th>\n",
       "      <th>severly_injured</th>\n",
       "      <th>lightly_injured</th>\n",
       "      <th>injured_pedestrians</th>\n",
       "      <th>casualties_ages_0-19</th>\n",
       "      <th>casualties_ages_20-64</th>\n",
       "      <th>casualties_ages_65_plus</th>\n",
       "      <th>total_casualties</th>\n",
       "      <th>vehicle_count</th>\n",
       "      <th>drivers</th>\n",
       "    </tr>\n",
       "    <tr>\n",
       "      <th>section</th>\n",
       "      <th></th>\n",
       "      <th></th>\n",
       "      <th></th>\n",
       "      <th></th>\n",
       "      <th></th>\n",
       "      <th></th>\n",
       "      <th></th>\n",
       "      <th></th>\n",
       "      <th></th>\n",
       "      <th></th>\n",
       "    </tr>\n",
       "  </thead>\n",
       "  <tbody>\n",
       "    <tr>\n",
       "      <th>arava_dromit_after_2012</th>\n",
       "      <td>9</td>\n",
       "      <td>13</td>\n",
       "      <td>114</td>\n",
       "      <td>2</td>\n",
       "      <td>35</td>\n",
       "      <td>95</td>\n",
       "      <td>4</td>\n",
       "      <td>136</td>\n",
       "      <td>76</td>\n",
       "      <td>76</td>\n",
       "    </tr>\n",
       "    <tr>\n",
       "      <th>arava_dromit_before_2012</th>\n",
       "      <td>21</td>\n",
       "      <td>32</td>\n",
       "      <td>320</td>\n",
       "      <td>1</td>\n",
       "      <td>96</td>\n",
       "      <td>268</td>\n",
       "      <td>7</td>\n",
       "      <td>373</td>\n",
       "      <td>181</td>\n",
       "      <td>181</td>\n",
       "    </tr>\n",
       "    <tr>\n",
       "      <th>arava_tihona_after_2012</th>\n",
       "      <td>24</td>\n",
       "      <td>71</td>\n",
       "      <td>229</td>\n",
       "      <td>3</td>\n",
       "      <td>60</td>\n",
       "      <td>217</td>\n",
       "      <td>38</td>\n",
       "      <td>324</td>\n",
       "      <td>153</td>\n",
       "      <td>153</td>\n",
       "    </tr>\n",
       "    <tr>\n",
       "      <th>arava_tihona_before_2012</th>\n",
       "      <td>33</td>\n",
       "      <td>62</td>\n",
       "      <td>436</td>\n",
       "      <td>1</td>\n",
       "      <td>188</td>\n",
       "      <td>326</td>\n",
       "      <td>16</td>\n",
       "      <td>531</td>\n",
       "      <td>219</td>\n",
       "      <td>219</td>\n",
       "    </tr>\n",
       "  </tbody>\n",
       "</table>\n",
       "</div>"
      ],
      "text/plain": [
       "                          killed  severly_injured  lightly_injured  \\\n",
       "section                                                              \n",
       "arava_dromit_after_2012        9               13              114   \n",
       "arava_dromit_before_2012      21               32              320   \n",
       "arava_tihona_after_2012       24               71              229   \n",
       "arava_tihona_before_2012      33               62              436   \n",
       "\n",
       "                          injured_pedestrians  casualties_ages_0-19  \\\n",
       "section                                                               \n",
       "arava_dromit_after_2012                     2                    35   \n",
       "arava_dromit_before_2012                    1                    96   \n",
       "arava_tihona_after_2012                     3                    60   \n",
       "arava_tihona_before_2012                    1                   188   \n",
       "\n",
       "                          casualties_ages_20-64  casualties_ages_65_plus  \\\n",
       "section                                                                    \n",
       "arava_dromit_after_2012                      95                        4   \n",
       "arava_dromit_before_2012                    268                        7   \n",
       "arava_tihona_after_2012                     217                       38   \n",
       "arava_tihona_before_2012                    326                       16   \n",
       "\n",
       "                          total_casualties  vehicle_count  drivers  \n",
       "section                                                             \n",
       "arava_dromit_after_2012                136             76       76  \n",
       "arava_dromit_before_2012               373            181      181  \n",
       "arava_tihona_after_2012                324            153      153  \n",
       "arava_tihona_before_2012               531            219      219  "
      ]
     },
     "execution_count": 93,
     "metadata": {},
     "output_type": "execute_result"
    }
   ],
   "source": [
    "casualty_cols = [\n",
    "    'killed',\n",
    "    'severly_injured',\n",
    "    'lightly_injured',\n",
    "    'injured_pedestrians',\n",
    "    'casualties_ages_0-19',\n",
    "    'casualties_ages_20-64',\n",
    "    'casualties_ages_65_plus',\n",
    "    'total_casualties',\n",
    "    'vehicle_count',\n",
    "    'drivers',\n",
    "]\n",
    "summary = df.groupby('section')[casualty_cols].sum()\n",
    "summary"
   ]
  },
  {
   "cell_type": "code",
   "execution_count": 95,
   "metadata": {},
   "outputs": [
    {
     "data": {
      "text/plain": [
       "section\n",
       "arava_tihona_before_2012    125\n",
       "arava_dromit_before_2012     89\n",
       "arava_tihona_after_2012      84\n",
       "arava_dromit_after_2012      50\n",
       "dtype: int64"
      ]
     },
     "execution_count": 95,
     "metadata": {},
     "output_type": "execute_result"
    }
   ],
   "source": [
    "df.value_counts('section')"
   ]
  },
  {
   "cell_type": "code",
   "execution_count": 96,
   "metadata": {},
   "outputs": [
    {
     "data": {
      "text/plain": [
       "killed                       87\n",
       "severly_injured             178\n",
       "lightly_injured            1099\n",
       "injured_pedestrians           7\n",
       "casualties_ages_0-19        379\n",
       "casualties_ages_20-64       906\n",
       "casualties_ages_65_plus      65\n",
       "total_casualties           1364\n",
       "vehicle_count               629\n",
       "drivers                     629\n",
       "dtype: int64"
      ]
     },
     "execution_count": 96,
     "metadata": {},
     "output_type": "execute_result"
    }
   ],
   "source": [
    "df[casualty_cols].sum()"
   ]
  },
  {
   "cell_type": "code",
   "execution_count": 111,
   "metadata": {},
   "outputs": [
    {
     "data": {
      "application/vnd.plotly.v1+json": {
       "config": {
        "plotlyServerURL": "https://plot.ly"
       },
       "data": [
        {
         "alignmentgroup": "True",
         "hovertemplate": "section=arava_tihona_before_2012<br>סוג תאונה=%{x}<br>מספר תאונות=%{y}<extra></extra>",
         "legendgroup": "arava_tihona_before_2012",
         "marker": {
          "color": "#636efa"
         },
         "name": "arava_tihona_before_2012",
         "offsetgroup": "arava_tihona_before_2012",
         "orientation": "v",
         "showlegend": true,
         "textposition": "auto",
         "type": "bar",
         "x": [
          "אחר",
          "החלקה",
          "התהפכות",
          "התנגשות חזית באחור",
          "התנגשות חזית בחזית",
          "התנגשות חזית בצד",
          "התנגשות עם עצם דומם",
          "התנגשות צד בצד",
          "ירידה מהכביש או עלייה למדרכה",
          "פגיעה בהולך רגל"
         ],
         "xaxis": "x",
         "y": [
          3,
          1,
          43,
          6,
          18,
          28,
          7,
          14,
          4,
          1
         ],
         "yaxis": "y"
        },
        {
         "alignmentgroup": "True",
         "hovertemplate": "section=arava_tihona_after_2012<br>סוג תאונה=%{x}<br>מספר תאונות=%{y}<extra></extra>",
         "legendgroup": "arava_tihona_after_2012",
         "marker": {
          "color": "#EF553B"
         },
         "name": "arava_tihona_after_2012",
         "offsetgroup": "arava_tihona_after_2012",
         "orientation": "v",
         "showlegend": true,
         "textposition": "auto",
         "type": "bar",
         "x": [
          "החלקה",
          "התהפכות",
          "התנגשות חזית באחור",
          "התנגשות חזית בחזית",
          "התנגשות חזית בצד",
          "התנגשות עם עצם דומם",
          "התנגשות צד בצד",
          "ירידה מהכביש או עלייה למדרכה",
          "פגיעה בהולך רגל",
          "פגיעה בנוסע בתוך כלי הרכב"
         ],
         "xaxis": "x",
         "y": [
          1,
          17,
          4,
          23,
          21,
          2,
          5,
          7,
          3,
          1
         ],
         "yaxis": "y"
        },
        {
         "alignmentgroup": "True",
         "hovertemplate": "section=arava_dromit_before_2012<br>סוג תאונה=%{x}<br>מספר תאונות=%{y}<extra></extra>",
         "legendgroup": "arava_dromit_before_2012",
         "marker": {
          "color": "#00cc96"
         },
         "name": "arava_dromit_before_2012",
         "offsetgroup": "arava_dromit_before_2012",
         "orientation": "v",
         "showlegend": true,
         "textposition": "auto",
         "type": "bar",
         "x": [
          "אחר",
          "התהפכות",
          "התנגשות חזית באחור",
          "התנגשות חזית בחזית",
          "התנגשות חזית בצד",
          "התנגשות עם עצם דומם",
          "התנגשות צד בצד",
          "ירידה מהכביש או עלייה למדרכה",
          "פגיעה בהולך רגל"
         ],
         "xaxis": "x",
         "y": [
          1,
          29,
          10,
          7,
          12,
          2,
          20,
          7,
          1
         ],
         "yaxis": "y"
        },
        {
         "alignmentgroup": "True",
         "hovertemplate": "section=arava_dromit_after_2012<br>סוג תאונה=%{x}<br>מספר תאונות=%{y}<extra></extra>",
         "legendgroup": "arava_dromit_after_2012",
         "marker": {
          "color": "#ab63fa"
         },
         "name": "arava_dromit_after_2012",
         "offsetgroup": "arava_dromit_after_2012",
         "orientation": "v",
         "showlegend": true,
         "textposition": "auto",
         "type": "bar",
         "x": [
          "אחר",
          "החלקה",
          "התהפכות",
          "התנגשות חזית באחור",
          "התנגשות חזית בחזית",
          "התנגשות חזית בצד",
          "התנגשות עם עצם דומם",
          "התנגשות צד בצד",
          "ירידה מהכביש או עלייה למדרכה",
          "פגיעה בהולך רגל"
         ],
         "xaxis": "x",
         "y": [
          1,
          1,
          20,
          4,
          3,
          11,
          4,
          2,
          2,
          2
         ],
         "yaxis": "y"
        }
       ],
       "layout": {
        "barmode": "group",
        "legend": {
         "title": {
          "text": "section"
         },
         "tracegroupgap": 0,
         "x": 0.99,
         "xanchor": "right",
         "y": 0.96,
         "yanchor": "top"
        },
        "template": {
         "data": {
          "bar": [
           {
            "error_x": {
             "color": "#2a3f5f"
            },
            "error_y": {
             "color": "#2a3f5f"
            },
            "marker": {
             "line": {
              "color": "#E5ECF6",
              "width": 0.5
             }
            },
            "type": "bar"
           }
          ],
          "barpolar": [
           {
            "marker": {
             "line": {
              "color": "#E5ECF6",
              "width": 0.5
             }
            },
            "type": "barpolar"
           }
          ],
          "carpet": [
           {
            "aaxis": {
             "endlinecolor": "#2a3f5f",
             "gridcolor": "white",
             "linecolor": "white",
             "minorgridcolor": "white",
             "startlinecolor": "#2a3f5f"
            },
            "baxis": {
             "endlinecolor": "#2a3f5f",
             "gridcolor": "white",
             "linecolor": "white",
             "minorgridcolor": "white",
             "startlinecolor": "#2a3f5f"
            },
            "type": "carpet"
           }
          ],
          "choropleth": [
           {
            "colorbar": {
             "outlinewidth": 0,
             "ticks": ""
            },
            "type": "choropleth"
           }
          ],
          "contour": [
           {
            "colorbar": {
             "outlinewidth": 0,
             "ticks": ""
            },
            "colorscale": [
             [
              0,
              "#0d0887"
             ],
             [
              0.1111111111111111,
              "#46039f"
             ],
             [
              0.2222222222222222,
              "#7201a8"
             ],
             [
              0.3333333333333333,
              "#9c179e"
             ],
             [
              0.4444444444444444,
              "#bd3786"
             ],
             [
              0.5555555555555556,
              "#d8576b"
             ],
             [
              0.6666666666666666,
              "#ed7953"
             ],
             [
              0.7777777777777778,
              "#fb9f3a"
             ],
             [
              0.8888888888888888,
              "#fdca26"
             ],
             [
              1,
              "#f0f921"
             ]
            ],
            "type": "contour"
           }
          ],
          "contourcarpet": [
           {
            "colorbar": {
             "outlinewidth": 0,
             "ticks": ""
            },
            "type": "contourcarpet"
           }
          ],
          "heatmap": [
           {
            "colorbar": {
             "outlinewidth": 0,
             "ticks": ""
            },
            "colorscale": [
             [
              0,
              "#0d0887"
             ],
             [
              0.1111111111111111,
              "#46039f"
             ],
             [
              0.2222222222222222,
              "#7201a8"
             ],
             [
              0.3333333333333333,
              "#9c179e"
             ],
             [
              0.4444444444444444,
              "#bd3786"
             ],
             [
              0.5555555555555556,
              "#d8576b"
             ],
             [
              0.6666666666666666,
              "#ed7953"
             ],
             [
              0.7777777777777778,
              "#fb9f3a"
             ],
             [
              0.8888888888888888,
              "#fdca26"
             ],
             [
              1,
              "#f0f921"
             ]
            ],
            "type": "heatmap"
           }
          ],
          "heatmapgl": [
           {
            "colorbar": {
             "outlinewidth": 0,
             "ticks": ""
            },
            "colorscale": [
             [
              0,
              "#0d0887"
             ],
             [
              0.1111111111111111,
              "#46039f"
             ],
             [
              0.2222222222222222,
              "#7201a8"
             ],
             [
              0.3333333333333333,
              "#9c179e"
             ],
             [
              0.4444444444444444,
              "#bd3786"
             ],
             [
              0.5555555555555556,
              "#d8576b"
             ],
             [
              0.6666666666666666,
              "#ed7953"
             ],
             [
              0.7777777777777778,
              "#fb9f3a"
             ],
             [
              0.8888888888888888,
              "#fdca26"
             ],
             [
              1,
              "#f0f921"
             ]
            ],
            "type": "heatmapgl"
           }
          ],
          "histogram": [
           {
            "marker": {
             "colorbar": {
              "outlinewidth": 0,
              "ticks": ""
             }
            },
            "type": "histogram"
           }
          ],
          "histogram2d": [
           {
            "colorbar": {
             "outlinewidth": 0,
             "ticks": ""
            },
            "colorscale": [
             [
              0,
              "#0d0887"
             ],
             [
              0.1111111111111111,
              "#46039f"
             ],
             [
              0.2222222222222222,
              "#7201a8"
             ],
             [
              0.3333333333333333,
              "#9c179e"
             ],
             [
              0.4444444444444444,
              "#bd3786"
             ],
             [
              0.5555555555555556,
              "#d8576b"
             ],
             [
              0.6666666666666666,
              "#ed7953"
             ],
             [
              0.7777777777777778,
              "#fb9f3a"
             ],
             [
              0.8888888888888888,
              "#fdca26"
             ],
             [
              1,
              "#f0f921"
             ]
            ],
            "type": "histogram2d"
           }
          ],
          "histogram2dcontour": [
           {
            "colorbar": {
             "outlinewidth": 0,
             "ticks": ""
            },
            "colorscale": [
             [
              0,
              "#0d0887"
             ],
             [
              0.1111111111111111,
              "#46039f"
             ],
             [
              0.2222222222222222,
              "#7201a8"
             ],
             [
              0.3333333333333333,
              "#9c179e"
             ],
             [
              0.4444444444444444,
              "#bd3786"
             ],
             [
              0.5555555555555556,
              "#d8576b"
             ],
             [
              0.6666666666666666,
              "#ed7953"
             ],
             [
              0.7777777777777778,
              "#fb9f3a"
             ],
             [
              0.8888888888888888,
              "#fdca26"
             ],
             [
              1,
              "#f0f921"
             ]
            ],
            "type": "histogram2dcontour"
           }
          ],
          "mesh3d": [
           {
            "colorbar": {
             "outlinewidth": 0,
             "ticks": ""
            },
            "type": "mesh3d"
           }
          ],
          "parcoords": [
           {
            "line": {
             "colorbar": {
              "outlinewidth": 0,
              "ticks": ""
             }
            },
            "type": "parcoords"
           }
          ],
          "pie": [
           {
            "automargin": true,
            "type": "pie"
           }
          ],
          "scatter": [
           {
            "marker": {
             "colorbar": {
              "outlinewidth": 0,
              "ticks": ""
             }
            },
            "type": "scatter"
           }
          ],
          "scatter3d": [
           {
            "line": {
             "colorbar": {
              "outlinewidth": 0,
              "ticks": ""
             }
            },
            "marker": {
             "colorbar": {
              "outlinewidth": 0,
              "ticks": ""
             }
            },
            "type": "scatter3d"
           }
          ],
          "scattercarpet": [
           {
            "marker": {
             "colorbar": {
              "outlinewidth": 0,
              "ticks": ""
             }
            },
            "type": "scattercarpet"
           }
          ],
          "scattergeo": [
           {
            "marker": {
             "colorbar": {
              "outlinewidth": 0,
              "ticks": ""
             }
            },
            "type": "scattergeo"
           }
          ],
          "scattergl": [
           {
            "marker": {
             "colorbar": {
              "outlinewidth": 0,
              "ticks": ""
             }
            },
            "type": "scattergl"
           }
          ],
          "scattermapbox": [
           {
            "marker": {
             "colorbar": {
              "outlinewidth": 0,
              "ticks": ""
             }
            },
            "type": "scattermapbox"
           }
          ],
          "scatterpolar": [
           {
            "marker": {
             "colorbar": {
              "outlinewidth": 0,
              "ticks": ""
             }
            },
            "type": "scatterpolar"
           }
          ],
          "scatterpolargl": [
           {
            "marker": {
             "colorbar": {
              "outlinewidth": 0,
              "ticks": ""
             }
            },
            "type": "scatterpolargl"
           }
          ],
          "scatterternary": [
           {
            "marker": {
             "colorbar": {
              "outlinewidth": 0,
              "ticks": ""
             }
            },
            "type": "scatterternary"
           }
          ],
          "surface": [
           {
            "colorbar": {
             "outlinewidth": 0,
             "ticks": ""
            },
            "colorscale": [
             [
              0,
              "#0d0887"
             ],
             [
              0.1111111111111111,
              "#46039f"
             ],
             [
              0.2222222222222222,
              "#7201a8"
             ],
             [
              0.3333333333333333,
              "#9c179e"
             ],
             [
              0.4444444444444444,
              "#bd3786"
             ],
             [
              0.5555555555555556,
              "#d8576b"
             ],
             [
              0.6666666666666666,
              "#ed7953"
             ],
             [
              0.7777777777777778,
              "#fb9f3a"
             ],
             [
              0.8888888888888888,
              "#fdca26"
             ],
             [
              1,
              "#f0f921"
             ]
            ],
            "type": "surface"
           }
          ],
          "table": [
           {
            "cells": {
             "fill": {
              "color": "#EBF0F8"
             },
             "line": {
              "color": "white"
             }
            },
            "header": {
             "fill": {
              "color": "#C8D4E3"
             },
             "line": {
              "color": "white"
             }
            },
            "type": "table"
           }
          ]
         },
         "layout": {
          "annotationdefaults": {
           "arrowcolor": "#2a3f5f",
           "arrowhead": 0,
           "arrowwidth": 1
          },
          "autotypenumbers": "strict",
          "coloraxis": {
           "colorbar": {
            "outlinewidth": 0,
            "ticks": ""
           }
          },
          "colorscale": {
           "diverging": [
            [
             0,
             "#8e0152"
            ],
            [
             0.1,
             "#c51b7d"
            ],
            [
             0.2,
             "#de77ae"
            ],
            [
             0.3,
             "#f1b6da"
            ],
            [
             0.4,
             "#fde0ef"
            ],
            [
             0.5,
             "#f7f7f7"
            ],
            [
             0.6,
             "#e6f5d0"
            ],
            [
             0.7,
             "#b8e186"
            ],
            [
             0.8,
             "#7fbc41"
            ],
            [
             0.9,
             "#4d9221"
            ],
            [
             1,
             "#276419"
            ]
           ],
           "sequential": [
            [
             0,
             "#0d0887"
            ],
            [
             0.1111111111111111,
             "#46039f"
            ],
            [
             0.2222222222222222,
             "#7201a8"
            ],
            [
             0.3333333333333333,
             "#9c179e"
            ],
            [
             0.4444444444444444,
             "#bd3786"
            ],
            [
             0.5555555555555556,
             "#d8576b"
            ],
            [
             0.6666666666666666,
             "#ed7953"
            ],
            [
             0.7777777777777778,
             "#fb9f3a"
            ],
            [
             0.8888888888888888,
             "#fdca26"
            ],
            [
             1,
             "#f0f921"
            ]
           ],
           "sequentialminus": [
            [
             0,
             "#0d0887"
            ],
            [
             0.1111111111111111,
             "#46039f"
            ],
            [
             0.2222222222222222,
             "#7201a8"
            ],
            [
             0.3333333333333333,
             "#9c179e"
            ],
            [
             0.4444444444444444,
             "#bd3786"
            ],
            [
             0.5555555555555556,
             "#d8576b"
            ],
            [
             0.6666666666666666,
             "#ed7953"
            ],
            [
             0.7777777777777778,
             "#fb9f3a"
            ],
            [
             0.8888888888888888,
             "#fdca26"
            ],
            [
             1,
             "#f0f921"
            ]
           ]
          },
          "colorway": [
           "#636efa",
           "#EF553B",
           "#00cc96",
           "#ab63fa",
           "#FFA15A",
           "#19d3f3",
           "#FF6692",
           "#B6E880",
           "#FF97FF",
           "#FECB52"
          ],
          "font": {
           "color": "#2a3f5f"
          },
          "geo": {
           "bgcolor": "white",
           "lakecolor": "white",
           "landcolor": "#E5ECF6",
           "showlakes": true,
           "showland": true,
           "subunitcolor": "white"
          },
          "hoverlabel": {
           "align": "left"
          },
          "hovermode": "closest",
          "mapbox": {
           "style": "light"
          },
          "paper_bgcolor": "white",
          "plot_bgcolor": "#E5ECF6",
          "polar": {
           "angularaxis": {
            "gridcolor": "white",
            "linecolor": "white",
            "ticks": ""
           },
           "bgcolor": "#E5ECF6",
           "radialaxis": {
            "gridcolor": "white",
            "linecolor": "white",
            "ticks": ""
           }
          },
          "scene": {
           "xaxis": {
            "backgroundcolor": "#E5ECF6",
            "gridcolor": "white",
            "gridwidth": 2,
            "linecolor": "white",
            "showbackground": true,
            "ticks": "",
            "zerolinecolor": "white"
           },
           "yaxis": {
            "backgroundcolor": "#E5ECF6",
            "gridcolor": "white",
            "gridwidth": 2,
            "linecolor": "white",
            "showbackground": true,
            "ticks": "",
            "zerolinecolor": "white"
           },
           "zaxis": {
            "backgroundcolor": "#E5ECF6",
            "gridcolor": "white",
            "gridwidth": 2,
            "linecolor": "white",
            "showbackground": true,
            "ticks": "",
            "zerolinecolor": "white"
           }
          },
          "shapedefaults": {
           "line": {
            "color": "#2a3f5f"
           }
          },
          "ternary": {
           "aaxis": {
            "gridcolor": "white",
            "linecolor": "white",
            "ticks": ""
           },
           "baxis": {
            "gridcolor": "white",
            "linecolor": "white",
            "ticks": ""
           },
           "bgcolor": "#E5ECF6",
           "caxis": {
            "gridcolor": "white",
            "linecolor": "white",
            "ticks": ""
           }
          },
          "title": {
           "x": 0.05
          },
          "xaxis": {
           "automargin": true,
           "gridcolor": "white",
           "linecolor": "white",
           "ticks": "",
           "title": {
            "standoff": 15
           },
           "zerolinecolor": "white",
           "zerolinewidth": 2
          },
          "yaxis": {
           "automargin": true,
           "gridcolor": "white",
           "linecolor": "white",
           "ticks": "",
           "title": {
            "standoff": 15
           },
           "zerolinecolor": "white",
           "zerolinewidth": 2
          }
         }
        },
        "title": {
         "text": "סוג תאונה בחלוקה למקטעים ותקופות"
        },
        "xaxis": {
         "anchor": "y",
         "domain": [
          0,
          1
         ],
         "title": {
          "text": "סוג תאונה"
         }
        },
        "yaxis": {
         "anchor": "x",
         "domain": [
          0,
          1
         ],
         "title": {
          "text": "מספר תאונות"
         }
        }
       }
      }
     },
     "metadata": {},
     "output_type": "display_data"
    }
   ],
   "source": [
    "fig = (\n",
    "    df\n",
    "    # >> filter(_.part=='south_')\n",
    "    # >> filter(_.location >= 60.4, _.location <= 180)\n",
    "    >> group_by(_.section)\n",
    "    >> count(_.accident_type)\n",
    "    >> pipe(lambda x: px.bar(x, x='accident_type', y='n', color='section', barmode='group',\n",
    "        title='סוג תאונה בחלוקה למקטעים ותקופות', labels={'accident_type':'סוג תאונה', 'n': 'מספר תאונות'},\n",
    "        category_orders={'section': ['arava_tihona_before_2012', 'arava_tihona_after_2012', 'arava_dromit_before_2012', 'arava_tihona_after_2012']}))\n",
    "    # >> group_by(_.year)\n",
    "    # >> summarize(killed=_.killed.sum(), lightly_injured=_.lightly_injured.sum())\n",
    ")\n",
    "\n",
    "fig.update_layout(\n",
    "    legend=dict(\n",
    "        yanchor='top',\n",
    "        y=0.96,\n",
    "        xanchor='right',\n",
    "        x=0.99\n",
    "    )\n",
    ")\n",
    "fig.show()"
   ]
  },
  {
   "cell_type": "code",
   "execution_count": 115,
   "metadata": {},
   "outputs": [],
   "source": [
    "df.groupby('accident_type').sum()[casualty_cols].to_excel(\"acc_type.xlsx\")"
   ]
  },
  {
   "cell_type": "code",
   "execution_count": 73,
   "metadata": {},
   "outputs": [
    {
     "data": {
      "application/vnd.plotly.v1+json": {
       "config": {
        "plotlyServerURL": "https://plot.ly"
       },
       "data": [
        {
         "alignmentgroup": "True",
         "hovertemplate": "part_time=mid_after<br>accident_type=%{x}<br>n=%{y}<extra></extra>",
         "legendgroup": "mid_after",
         "marker": {
          "color": "#636efa"
         },
         "name": "mid_after",
         "offsetgroup": "mid_after",
         "orientation": "v",
         "showlegend": true,
         "textposition": "auto",
         "type": "bar",
         "x": [
          "החלקה",
          "התהפכות",
          "התנגשות חזית באחור",
          "התנגשות חזית בחזית",
          "התנגשות חזית בצד",
          "התנגשות עם עצם דומם",
          "התנגשות צד בצד",
          "ירידה מהכביש או עלייה למדרכה",
          "פגיעה בהולך רגל",
          "פגיעה בנוסע בתוך כלי הרכב"
         ],
         "xaxis": "x",
         "y": [
          1,
          17,
          4,
          23,
          21,
          2,
          5,
          7,
          3,
          1
         ],
         "yaxis": "y"
        },
        {
         "alignmentgroup": "True",
         "hovertemplate": "part_time=mid_before<br>accident_type=%{x}<br>n=%{y}<extra></extra>",
         "legendgroup": "mid_before",
         "marker": {
          "color": "#EF553B"
         },
         "name": "mid_before",
         "offsetgroup": "mid_before",
         "orientation": "v",
         "showlegend": true,
         "textposition": "auto",
         "type": "bar",
         "x": [
          "אחר",
          "החלקה",
          "התהפכות",
          "התנגשות חזית באחור",
          "התנגשות חזית בחזית",
          "התנגשות חזית בצד",
          "התנגשות עם עצם דומם",
          "התנגשות צד בצד",
          "ירידה מהכביש או עלייה למדרכה",
          "פגיעה בהולך רגל"
         ],
         "xaxis": "x",
         "y": [
          3,
          1,
          43,
          6,
          18,
          28,
          7,
          14,
          4,
          1
         ],
         "yaxis": "y"
        }
       ],
       "layout": {
        "barmode": "group",
        "legend": {
         "title": {
          "text": "part_time"
         },
         "tracegroupgap": 0
        },
        "margin": {
         "t": 60
        },
        "template": {
         "data": {
          "bar": [
           {
            "error_x": {
             "color": "#2a3f5f"
            },
            "error_y": {
             "color": "#2a3f5f"
            },
            "marker": {
             "line": {
              "color": "#E5ECF6",
              "width": 0.5
             }
            },
            "type": "bar"
           }
          ],
          "barpolar": [
           {
            "marker": {
             "line": {
              "color": "#E5ECF6",
              "width": 0.5
             }
            },
            "type": "barpolar"
           }
          ],
          "carpet": [
           {
            "aaxis": {
             "endlinecolor": "#2a3f5f",
             "gridcolor": "white",
             "linecolor": "white",
             "minorgridcolor": "white",
             "startlinecolor": "#2a3f5f"
            },
            "baxis": {
             "endlinecolor": "#2a3f5f",
             "gridcolor": "white",
             "linecolor": "white",
             "minorgridcolor": "white",
             "startlinecolor": "#2a3f5f"
            },
            "type": "carpet"
           }
          ],
          "choropleth": [
           {
            "colorbar": {
             "outlinewidth": 0,
             "ticks": ""
            },
            "type": "choropleth"
           }
          ],
          "contour": [
           {
            "colorbar": {
             "outlinewidth": 0,
             "ticks": ""
            },
            "colorscale": [
             [
              0,
              "#0d0887"
             ],
             [
              0.1111111111111111,
              "#46039f"
             ],
             [
              0.2222222222222222,
              "#7201a8"
             ],
             [
              0.3333333333333333,
              "#9c179e"
             ],
             [
              0.4444444444444444,
              "#bd3786"
             ],
             [
              0.5555555555555556,
              "#d8576b"
             ],
             [
              0.6666666666666666,
              "#ed7953"
             ],
             [
              0.7777777777777778,
              "#fb9f3a"
             ],
             [
              0.8888888888888888,
              "#fdca26"
             ],
             [
              1,
              "#f0f921"
             ]
            ],
            "type": "contour"
           }
          ],
          "contourcarpet": [
           {
            "colorbar": {
             "outlinewidth": 0,
             "ticks": ""
            },
            "type": "contourcarpet"
           }
          ],
          "heatmap": [
           {
            "colorbar": {
             "outlinewidth": 0,
             "ticks": ""
            },
            "colorscale": [
             [
              0,
              "#0d0887"
             ],
             [
              0.1111111111111111,
              "#46039f"
             ],
             [
              0.2222222222222222,
              "#7201a8"
             ],
             [
              0.3333333333333333,
              "#9c179e"
             ],
             [
              0.4444444444444444,
              "#bd3786"
             ],
             [
              0.5555555555555556,
              "#d8576b"
             ],
             [
              0.6666666666666666,
              "#ed7953"
             ],
             [
              0.7777777777777778,
              "#fb9f3a"
             ],
             [
              0.8888888888888888,
              "#fdca26"
             ],
             [
              1,
              "#f0f921"
             ]
            ],
            "type": "heatmap"
           }
          ],
          "heatmapgl": [
           {
            "colorbar": {
             "outlinewidth": 0,
             "ticks": ""
            },
            "colorscale": [
             [
              0,
              "#0d0887"
             ],
             [
              0.1111111111111111,
              "#46039f"
             ],
             [
              0.2222222222222222,
              "#7201a8"
             ],
             [
              0.3333333333333333,
              "#9c179e"
             ],
             [
              0.4444444444444444,
              "#bd3786"
             ],
             [
              0.5555555555555556,
              "#d8576b"
             ],
             [
              0.6666666666666666,
              "#ed7953"
             ],
             [
              0.7777777777777778,
              "#fb9f3a"
             ],
             [
              0.8888888888888888,
              "#fdca26"
             ],
             [
              1,
              "#f0f921"
             ]
            ],
            "type": "heatmapgl"
           }
          ],
          "histogram": [
           {
            "marker": {
             "colorbar": {
              "outlinewidth": 0,
              "ticks": ""
             }
            },
            "type": "histogram"
           }
          ],
          "histogram2d": [
           {
            "colorbar": {
             "outlinewidth": 0,
             "ticks": ""
            },
            "colorscale": [
             [
              0,
              "#0d0887"
             ],
             [
              0.1111111111111111,
              "#46039f"
             ],
             [
              0.2222222222222222,
              "#7201a8"
             ],
             [
              0.3333333333333333,
              "#9c179e"
             ],
             [
              0.4444444444444444,
              "#bd3786"
             ],
             [
              0.5555555555555556,
              "#d8576b"
             ],
             [
              0.6666666666666666,
              "#ed7953"
             ],
             [
              0.7777777777777778,
              "#fb9f3a"
             ],
             [
              0.8888888888888888,
              "#fdca26"
             ],
             [
              1,
              "#f0f921"
             ]
            ],
            "type": "histogram2d"
           }
          ],
          "histogram2dcontour": [
           {
            "colorbar": {
             "outlinewidth": 0,
             "ticks": ""
            },
            "colorscale": [
             [
              0,
              "#0d0887"
             ],
             [
              0.1111111111111111,
              "#46039f"
             ],
             [
              0.2222222222222222,
              "#7201a8"
             ],
             [
              0.3333333333333333,
              "#9c179e"
             ],
             [
              0.4444444444444444,
              "#bd3786"
             ],
             [
              0.5555555555555556,
              "#d8576b"
             ],
             [
              0.6666666666666666,
              "#ed7953"
             ],
             [
              0.7777777777777778,
              "#fb9f3a"
             ],
             [
              0.8888888888888888,
              "#fdca26"
             ],
             [
              1,
              "#f0f921"
             ]
            ],
            "type": "histogram2dcontour"
           }
          ],
          "mesh3d": [
           {
            "colorbar": {
             "outlinewidth": 0,
             "ticks": ""
            },
            "type": "mesh3d"
           }
          ],
          "parcoords": [
           {
            "line": {
             "colorbar": {
              "outlinewidth": 0,
              "ticks": ""
             }
            },
            "type": "parcoords"
           }
          ],
          "pie": [
           {
            "automargin": true,
            "type": "pie"
           }
          ],
          "scatter": [
           {
            "marker": {
             "colorbar": {
              "outlinewidth": 0,
              "ticks": ""
             }
            },
            "type": "scatter"
           }
          ],
          "scatter3d": [
           {
            "line": {
             "colorbar": {
              "outlinewidth": 0,
              "ticks": ""
             }
            },
            "marker": {
             "colorbar": {
              "outlinewidth": 0,
              "ticks": ""
             }
            },
            "type": "scatter3d"
           }
          ],
          "scattercarpet": [
           {
            "marker": {
             "colorbar": {
              "outlinewidth": 0,
              "ticks": ""
             }
            },
            "type": "scattercarpet"
           }
          ],
          "scattergeo": [
           {
            "marker": {
             "colorbar": {
              "outlinewidth": 0,
              "ticks": ""
             }
            },
            "type": "scattergeo"
           }
          ],
          "scattergl": [
           {
            "marker": {
             "colorbar": {
              "outlinewidth": 0,
              "ticks": ""
             }
            },
            "type": "scattergl"
           }
          ],
          "scattermapbox": [
           {
            "marker": {
             "colorbar": {
              "outlinewidth": 0,
              "ticks": ""
             }
            },
            "type": "scattermapbox"
           }
          ],
          "scatterpolar": [
           {
            "marker": {
             "colorbar": {
              "outlinewidth": 0,
              "ticks": ""
             }
            },
            "type": "scatterpolar"
           }
          ],
          "scatterpolargl": [
           {
            "marker": {
             "colorbar": {
              "outlinewidth": 0,
              "ticks": ""
             }
            },
            "type": "scatterpolargl"
           }
          ],
          "scatterternary": [
           {
            "marker": {
             "colorbar": {
              "outlinewidth": 0,
              "ticks": ""
             }
            },
            "type": "scatterternary"
           }
          ],
          "surface": [
           {
            "colorbar": {
             "outlinewidth": 0,
             "ticks": ""
            },
            "colorscale": [
             [
              0,
              "#0d0887"
             ],
             [
              0.1111111111111111,
              "#46039f"
             ],
             [
              0.2222222222222222,
              "#7201a8"
             ],
             [
              0.3333333333333333,
              "#9c179e"
             ],
             [
              0.4444444444444444,
              "#bd3786"
             ],
             [
              0.5555555555555556,
              "#d8576b"
             ],
             [
              0.6666666666666666,
              "#ed7953"
             ],
             [
              0.7777777777777778,
              "#fb9f3a"
             ],
             [
              0.8888888888888888,
              "#fdca26"
             ],
             [
              1,
              "#f0f921"
             ]
            ],
            "type": "surface"
           }
          ],
          "table": [
           {
            "cells": {
             "fill": {
              "color": "#EBF0F8"
             },
             "line": {
              "color": "white"
             }
            },
            "header": {
             "fill": {
              "color": "#C8D4E3"
             },
             "line": {
              "color": "white"
             }
            },
            "type": "table"
           }
          ]
         },
         "layout": {
          "annotationdefaults": {
           "arrowcolor": "#2a3f5f",
           "arrowhead": 0,
           "arrowwidth": 1
          },
          "autotypenumbers": "strict",
          "coloraxis": {
           "colorbar": {
            "outlinewidth": 0,
            "ticks": ""
           }
          },
          "colorscale": {
           "diverging": [
            [
             0,
             "#8e0152"
            ],
            [
             0.1,
             "#c51b7d"
            ],
            [
             0.2,
             "#de77ae"
            ],
            [
             0.3,
             "#f1b6da"
            ],
            [
             0.4,
             "#fde0ef"
            ],
            [
             0.5,
             "#f7f7f7"
            ],
            [
             0.6,
             "#e6f5d0"
            ],
            [
             0.7,
             "#b8e186"
            ],
            [
             0.8,
             "#7fbc41"
            ],
            [
             0.9,
             "#4d9221"
            ],
            [
             1,
             "#276419"
            ]
           ],
           "sequential": [
            [
             0,
             "#0d0887"
            ],
            [
             0.1111111111111111,
             "#46039f"
            ],
            [
             0.2222222222222222,
             "#7201a8"
            ],
            [
             0.3333333333333333,
             "#9c179e"
            ],
            [
             0.4444444444444444,
             "#bd3786"
            ],
            [
             0.5555555555555556,
             "#d8576b"
            ],
            [
             0.6666666666666666,
             "#ed7953"
            ],
            [
             0.7777777777777778,
             "#fb9f3a"
            ],
            [
             0.8888888888888888,
             "#fdca26"
            ],
            [
             1,
             "#f0f921"
            ]
           ],
           "sequentialminus": [
            [
             0,
             "#0d0887"
            ],
            [
             0.1111111111111111,
             "#46039f"
            ],
            [
             0.2222222222222222,
             "#7201a8"
            ],
            [
             0.3333333333333333,
             "#9c179e"
            ],
            [
             0.4444444444444444,
             "#bd3786"
            ],
            [
             0.5555555555555556,
             "#d8576b"
            ],
            [
             0.6666666666666666,
             "#ed7953"
            ],
            [
             0.7777777777777778,
             "#fb9f3a"
            ],
            [
             0.8888888888888888,
             "#fdca26"
            ],
            [
             1,
             "#f0f921"
            ]
           ]
          },
          "colorway": [
           "#636efa",
           "#EF553B",
           "#00cc96",
           "#ab63fa",
           "#FFA15A",
           "#19d3f3",
           "#FF6692",
           "#B6E880",
           "#FF97FF",
           "#FECB52"
          ],
          "font": {
           "color": "#2a3f5f"
          },
          "geo": {
           "bgcolor": "white",
           "lakecolor": "white",
           "landcolor": "#E5ECF6",
           "showlakes": true,
           "showland": true,
           "subunitcolor": "white"
          },
          "hoverlabel": {
           "align": "left"
          },
          "hovermode": "closest",
          "mapbox": {
           "style": "light"
          },
          "paper_bgcolor": "white",
          "plot_bgcolor": "#E5ECF6",
          "polar": {
           "angularaxis": {
            "gridcolor": "white",
            "linecolor": "white",
            "ticks": ""
           },
           "bgcolor": "#E5ECF6",
           "radialaxis": {
            "gridcolor": "white",
            "linecolor": "white",
            "ticks": ""
           }
          },
          "scene": {
           "xaxis": {
            "backgroundcolor": "#E5ECF6",
            "gridcolor": "white",
            "gridwidth": 2,
            "linecolor": "white",
            "showbackground": true,
            "ticks": "",
            "zerolinecolor": "white"
           },
           "yaxis": {
            "backgroundcolor": "#E5ECF6",
            "gridcolor": "white",
            "gridwidth": 2,
            "linecolor": "white",
            "showbackground": true,
            "ticks": "",
            "zerolinecolor": "white"
           },
           "zaxis": {
            "backgroundcolor": "#E5ECF6",
            "gridcolor": "white",
            "gridwidth": 2,
            "linecolor": "white",
            "showbackground": true,
            "ticks": "",
            "zerolinecolor": "white"
           }
          },
          "shapedefaults": {
           "line": {
            "color": "#2a3f5f"
           }
          },
          "ternary": {
           "aaxis": {
            "gridcolor": "white",
            "linecolor": "white",
            "ticks": ""
           },
           "baxis": {
            "gridcolor": "white",
            "linecolor": "white",
            "ticks": ""
           },
           "bgcolor": "#E5ECF6",
           "caxis": {
            "gridcolor": "white",
            "linecolor": "white",
            "ticks": ""
           }
          },
          "title": {
           "x": 0.05
          },
          "xaxis": {
           "automargin": true,
           "gridcolor": "white",
           "linecolor": "white",
           "ticks": "",
           "title": {
            "standoff": 15
           },
           "zerolinecolor": "white",
           "zerolinewidth": 2
          },
          "yaxis": {
           "automargin": true,
           "gridcolor": "white",
           "linecolor": "white",
           "ticks": "",
           "title": {
            "standoff": 15
           },
           "zerolinecolor": "white",
           "zerolinewidth": 2
          }
         }
        },
        "xaxis": {
         "anchor": "y",
         "domain": [
          0,
          1
         ],
         "title": {
          "text": "accident_type"
         }
        },
        "yaxis": {
         "anchor": "x",
         "domain": [
          0,
          1
         ],
         "title": {
          "text": "n"
         }
        }
       }
      }
     },
     "metadata": {},
     "output_type": "display_data"
    }
   ],
   "source": [
    "\n",
    "(\n",
    "    df\n",
    "    >> mutate(part=if_else(_.location <= 60.4, 'south', 'mid'),\n",
    "        after=_.year >= 2012\n",
    "    )\n",
    "    >> mutate(part_time=_.part + if_else(_.after, '_after', '_before'))\n",
    "    >> filter(_.part=='mid')\n",
    "    # >> filter(_.location >= 60.4, _.location <= 180)\n",
    "    >> group_by(_.part_time)\n",
    "    >> count(_.accident_type)\n",
    "    >> pipe(lambda x: px.bar(x, x='accident_type', y='n', color='part_time', barmode='group'))\n",
    "    # >> group_by(_.year)\n",
    "    # >> summarize(killed=_.killed.sum(), lightly_injured=_.lightly_injured.sum())\n",
    ")"
   ]
  },
  {
   "cell_type": "markdown",
   "metadata": {},
   "source": [
    "# Fatality of accidents"
   ]
  },
  {
   "cell_type": "code",
   "execution_count": 117,
   "metadata": {},
   "outputs": [
    {
     "data": {
      "text/plain": [
       "['year',\n",
       " 'month',\n",
       " 'day of week',\n",
       " 'day/night',\n",
       " 'accident_severity',\n",
       " 'accident_type',\n",
       " 'killed',\n",
       " 'severly_injured',\n",
       " 'lightly_injured',\n",
       " 'injured_pedestrians',\n",
       " 'casualties_ages_0-19',\n",
       " 'casualties_ages_20-64',\n",
       " 'casualties_ages_65_plus',\n",
       " 'total_casualties',\n",
       " 'vehicle_count',\n",
       " 'drivers',\n",
       " 'road_type',\n",
       " 'localization_quality',\n",
       " 'settlement',\n",
       " 'road1',\n",
       " 'location',\n",
       " 'road2',\n",
       " 'road3',\n",
       " 'road4',\n",
       " 'part',\n",
       " 'after',\n",
       " 'section']"
      ]
     },
     "execution_count": 117,
     "metadata": {},
     "output_type": "execute_result"
    }
   ],
   "source": [
    "df.columns.tolist()"
   ]
  },
  {
   "cell_type": "code",
   "execution_count": 124,
   "metadata": {},
   "outputs": [
    {
     "data": {
      "text/plain": [
       "section                   accident_severity\n",
       "arava_dromit_after_2012   קלה                  0.660000\n",
       "                          קשה                  0.220000\n",
       "                          קטלנית               0.120000\n",
       "arava_dromit_before_2012  קלה                  0.741573\n",
       "                          קטלנית               0.157303\n",
       "                          קשה                  0.101124\n",
       "arava_tihona_after_2012   קלה                  0.392857\n",
       "                          קשה                  0.380952\n",
       "                          קטלנית               0.226190\n",
       "arava_tihona_before_2012  קלה                  0.528000\n",
       "                          קשה                  0.280000\n",
       "                          קטלנית               0.192000\n",
       "Name: accident_severity, dtype: float64"
      ]
     },
     "execution_count": 124,
     "metadata": {},
     "output_type": "execute_result"
    }
   ],
   "source": [
    "df.groupby('section').accident_severity.value_counts(normalize=True)"
   ]
  }
 ],
 "metadata": {
  "kernelspec": {
   "display_name": "Python 3.9.2 64-bit ('ml39')",
   "language": "python",
   "name": "python3"
  },
  "language_info": {
   "codemirror_mode": {
    "name": "ipython",
    "version": 3
   },
   "file_extension": ".py",
   "mimetype": "text/x-python",
   "name": "python",
   "nbconvert_exporter": "python",
   "pygments_lexer": "ipython3",
   "version": "3.9.2"
  },
  "orig_nbformat": 4,
  "vscode": {
   "interpreter": {
    "hash": "e78d0bf8d3995f926249f0ef080c319f1a67c053fe65f3f6ca45d28d7f192d7f"
   }
  }
 },
 "nbformat": 4,
 "nbformat_minor": 2
}
